{
 "cells": [
  {
   "cell_type": "markdown",
   "id": "892bc84b-b6a3-4c4f-8afa-dc8e7a813730",
   "metadata": {},
   "source": [
    "## Poročilo vaja 4.2\n",
    "#### Analiza variance: stopnja gibljivosti študentov glede na trajanje treninga in spol\n",
    "\n",
    "Izvajamo eksperimentalno študijo, kjer ugotavljamo stopnjo gibljivosti študentov glede na trajanje treninga in spol. Imamo 48 študentov (24M-24Ž), ki jih razdelimo v tri skupine, 1. skupina vadi en teden. 2. skupina 2 tedna, 3. skupina 3 tedne. Podatki so zbrani v tabeli.\n",
    "1. Uredite podatke tako, da boste lahko izvedli analizo.\n",
    "2. Izvedite opisno statistiko in jo opremite z ustreznimi grafi. Izvedite ustrezno statistično analizo.\n",
    "3. Poročajte metodologijo in komentirajte rezultate."
   ]
  },
  {
   "cell_type": "markdown",
   "id": "89c59b20-8eb4-4cea-b3f4-f40522afcac3",
   "metadata": {},
   "source": [
    "#### 1. Ureditev podatkov"
   ]
  },
  {
   "cell_type": "code",
   "execution_count": 1,
   "id": "initial_id",
   "metadata": {
    "ExecuteTime": {
     "end_time": "2025-05-05T12:32:29.100506Z",
     "start_time": "2025-05-05T12:32:27.083015Z"
    }
   },
   "outputs": [],
   "source": [
    "import matplotlib.pyplot as plt\n",
    "import pandas as pd\n",
    "import numpy as np\n",
    "import seaborn as sns\n",
    "import os\n",
    "from scipy.stats import shapiro\n",
    "import statsmodels.api as sm\n",
    "import statsmodels.formula.api as smf\n",
    "from statsmodels.stats.multicomp import pairwise_tukeyhsd\n",
    "\n",
    "path = os.getcwd()\n",
    "df = pd.read_csv(os.path.join(path, 'data\\\\flexibility.csv'), delimiter=';')\n",
    "df = df.drop(columns='id')\n",
    "df = df.rename(columns={'female': 'gender'})\n",
    "df['gender'] = df['gender'].map({0: 'male', 1: 'female'})"
   ]
  },
  {
   "cell_type": "code",
   "execution_count": 2,
   "id": "b08c4e9e-b108-43c0-b7a9-c37753e396fd",
   "metadata": {},
   "outputs": [
    {
     "name": "stdout",
     "output_type": "stream",
     "text": [
      "Shapiro-Wilk test of normality:\n",
      " female, 1: 0.92\n",
      " female, 2: 0.28\n",
      " female, 3: 0.78\n",
      " male, 1: 0.70\n",
      " male, 2: 0.14\n",
      " male, 3: 0.72\n"
     ]
    }
   ],
   "source": [
    "# shapiro-wilk za določitev normalnosti porazdelitve\n",
    "print('Shapiro-Wilk test of normality:')\n",
    "for gender in df.gender.unique():\n",
    "    for group in df.group.unique():\n",
    "        data = df[(df.gender == gender) & (df.group == group)]['flexibility']\n",
    "        stat, p = shapiro(data)\n",
    "        print(f' {gender}, {group}: {p:.2f}')"
   ]
  },
  {
   "cell_type": "markdown",
   "id": "ed407fbf-e4fb-407d-8106-834c9430aab9",
   "metadata": {},
   "source": [
    "P vrednost shapiro-Wilk testa je večja od mejne vrednosti 0.05 iz česar lahko predpostavimo, da so podatki o gibljivosti normalno porazdeljeni. Podatke smo prav tako razdelili na dve skupini, torej bomo za analizo podatkov uporabili dvosmerno ANOVO.\n",
    "\n",
    "#### 2. Opisna statistika z grafi in ustrezna statistična analiza."
   ]
  },
  {
   "cell_type": "code",
   "execution_count": 4,
   "id": "dfb61e32fb3d841c",
   "metadata": {
    "ExecuteTime": {
     "end_time": "2025-05-05T12:32:30.471235Z",
     "start_time": "2025-05-05T12:32:30.453561Z"
    }
   },
   "outputs": [
    {
     "data": {
      "text/html": [
       "<style type=\"text/css\">\n",
       "</style>\n",
       "<table id=\"T_ef399\">\n",
       "  <thead>\n",
       "    <tr>\n",
       "      <th class=\"blank level0\" >&nbsp;</th>\n",
       "      <th id=\"T_ef399_level0_col0\" class=\"col_heading level0 col0\" colspan=\"8\">flexibility</th>\n",
       "    </tr>\n",
       "    <tr>\n",
       "      <th class=\"blank level1\" >&nbsp;</th>\n",
       "      <th id=\"T_ef399_level1_col0\" class=\"col_heading level1 col0\" >count</th>\n",
       "      <th id=\"T_ef399_level1_col1\" class=\"col_heading level1 col1\" >mean</th>\n",
       "      <th id=\"T_ef399_level1_col2\" class=\"col_heading level1 col2\" >std</th>\n",
       "      <th id=\"T_ef399_level1_col3\" class=\"col_heading level1 col3\" >min</th>\n",
       "      <th id=\"T_ef399_level1_col4\" class=\"col_heading level1 col4\" >25%</th>\n",
       "      <th id=\"T_ef399_level1_col5\" class=\"col_heading level1 col5\" >50%</th>\n",
       "      <th id=\"T_ef399_level1_col6\" class=\"col_heading level1 col6\" >75%</th>\n",
       "      <th id=\"T_ef399_level1_col7\" class=\"col_heading level1 col7\" >max</th>\n",
       "    </tr>\n",
       "    <tr>\n",
       "      <th class=\"index_name level0\" >gender</th>\n",
       "      <th class=\"blank col0\" >&nbsp;</th>\n",
       "      <th class=\"blank col1\" >&nbsp;</th>\n",
       "      <th class=\"blank col2\" >&nbsp;</th>\n",
       "      <th class=\"blank col3\" >&nbsp;</th>\n",
       "      <th class=\"blank col4\" >&nbsp;</th>\n",
       "      <th class=\"blank col5\" >&nbsp;</th>\n",
       "      <th class=\"blank col6\" >&nbsp;</th>\n",
       "      <th class=\"blank col7\" >&nbsp;</th>\n",
       "    </tr>\n",
       "  </thead>\n",
       "  <tbody>\n",
       "    <tr>\n",
       "      <th id=\"T_ef399_level0_row0\" class=\"row_heading level0 row0\" >female</th>\n",
       "      <td id=\"T_ef399_row0_col0\" class=\"data row0 col0\" >24.00</td>\n",
       "      <td id=\"T_ef399_row0_col1\" class=\"data row0 col1\" >31.00</td>\n",
       "      <td id=\"T_ef399_row0_col2\" class=\"data row0 col2\" >8.23</td>\n",
       "      <td id=\"T_ef399_row0_col3\" class=\"data row0 col3\" >19.00</td>\n",
       "      <td id=\"T_ef399_row0_col4\" class=\"data row0 col4\" >25.00</td>\n",
       "      <td id=\"T_ef399_row0_col5\" class=\"data row0 col5\" >28.00</td>\n",
       "      <td id=\"T_ef399_row0_col6\" class=\"data row0 col6\" >36.75</td>\n",
       "      <td id=\"T_ef399_row0_col7\" class=\"data row0 col7\" >47.00</td>\n",
       "    </tr>\n",
       "    <tr>\n",
       "      <th id=\"T_ef399_level0_row1\" class=\"row_heading level0 row1\" >male</th>\n",
       "      <td id=\"T_ef399_row1_col0\" class=\"data row1 col0\" >24.00</td>\n",
       "      <td id=\"T_ef399_row1_col1\" class=\"data row1 col1\" >25.75</td>\n",
       "      <td id=\"T_ef399_row1_col2\" class=\"data row1 col2\" >4.56</td>\n",
       "      <td id=\"T_ef399_row1_col3\" class=\"data row1 col3\" >16.00</td>\n",
       "      <td id=\"T_ef399_row1_col4\" class=\"data row1 col4\" >24.00</td>\n",
       "      <td id=\"T_ef399_row1_col5\" class=\"data row1 col5\" >25.50</td>\n",
       "      <td id=\"T_ef399_row1_col6\" class=\"data row1 col6\" >29.25</td>\n",
       "      <td id=\"T_ef399_row1_col7\" class=\"data row1 col7\" >33.00</td>\n",
       "    </tr>\n",
       "  </tbody>\n",
       "</table>\n"
      ],
      "text/plain": [
       "<pandas.io.formats.style.Styler at 0x17f2df48110>"
      ]
     },
     "metadata": {},
     "output_type": "display_data"
    }
   ],
   "source": [
    "display(df.groupby(['gender']).describe().drop(columns='group').style.format('{:.2f}'))"
   ]
  },
  {
   "cell_type": "code",
   "execution_count": 6,
   "id": "201493ff-fcf3-44fa-bf8b-036ba2ed961e",
   "metadata": {
    "ExecuteTime": {
     "end_time": "2025-05-05T12:32:32.205672Z",
     "start_time": "2025-05-05T12:32:32.134751Z"
    }
   },
   "outputs": [
    {
     "data": {
      "image/png": "[encoded data removed]",
      "text/plain": [
       "<Figure size 800x500 with 1 Axes>"
      ]
     },
     "metadata": {},
     "output_type": "display_data"
    }
   ],
   "source": [
    "plt.figure(figsize=(8,5))\n",
    "sns.boxplot(x='gender', y='flexibility', data=df);\n",
    "plt.title('Flexibility by gender')\n",
    "plt.xlabel('Gender')\n",
    "plt.ylabel('Flexibility')\n",
    "plt.tight_layout()\n",
    "plt.show()"
   ]
  },
  {
   "cell_type": "markdown",
   "id": "aafa808a-05d0-4896-a344-6694e7066126",
   "metadata": {},
   "source": [
    "Iz grafa in tabele je razvidno, da so ženske bolj gibljive od moških."
   ]
  },
  {
   "cell_type": "code",
   "execution_count": 8,
   "id": "32df9045a456ce1",
   "metadata": {
    "ExecuteTime": {
     "end_time": "2025-05-05T12:32:31.379387Z",
     "start_time": "2025-05-05T12:32:31.369262Z"
    }
   },
   "outputs": [
    {
     "data": {
      "text/html": [
       "<style type=\"text/css\">\n",
       "</style>\n",
       "<table id=\"T_c7524\">\n",
       "  <thead>\n",
       "    <tr>\n",
       "      <th class=\"blank level0\" >&nbsp;</th>\n",
       "      <th id=\"T_c7524_level0_col0\" class=\"col_heading level0 col0\" colspan=\"8\">flexibility</th>\n",
       "    </tr>\n",
       "    <tr>\n",
       "      <th class=\"blank level1\" >&nbsp;</th>\n",
       "      <th id=\"T_c7524_level1_col0\" class=\"col_heading level1 col0\" >count</th>\n",
       "      <th id=\"T_c7524_level1_col1\" class=\"col_heading level1 col1\" >mean</th>\n",
       "      <th id=\"T_c7524_level1_col2\" class=\"col_heading level1 col2\" >std</th>\n",
       "      <th id=\"T_c7524_level1_col3\" class=\"col_heading level1 col3\" >min</th>\n",
       "      <th id=\"T_c7524_level1_col4\" class=\"col_heading level1 col4\" >25%</th>\n",
       "      <th id=\"T_c7524_level1_col5\" class=\"col_heading level1 col5\" >50%</th>\n",
       "      <th id=\"T_c7524_level1_col6\" class=\"col_heading level1 col6\" >75%</th>\n",
       "      <th id=\"T_c7524_level1_col7\" class=\"col_heading level1 col7\" >max</th>\n",
       "    </tr>\n",
       "    <tr>\n",
       "      <th class=\"index_name level0\" >group</th>\n",
       "      <th class=\"blank col0\" >&nbsp;</th>\n",
       "      <th class=\"blank col1\" >&nbsp;</th>\n",
       "      <th class=\"blank col2\" >&nbsp;</th>\n",
       "      <th class=\"blank col3\" >&nbsp;</th>\n",
       "      <th class=\"blank col4\" >&nbsp;</th>\n",
       "      <th class=\"blank col5\" >&nbsp;</th>\n",
       "      <th class=\"blank col6\" >&nbsp;</th>\n",
       "      <th class=\"blank col7\" >&nbsp;</th>\n",
       "    </tr>\n",
       "  </thead>\n",
       "  <tbody>\n",
       "    <tr>\n",
       "      <th id=\"T_c7524_level0_row0\" class=\"row_heading level0 row0\" >1</th>\n",
       "      <td id=\"T_c7524_row0_col0\" class=\"data row0 col0\" >16.00</td>\n",
       "      <td id=\"T_c7524_row0_col1\" class=\"data row0 col1\" >23.25</td>\n",
       "      <td id=\"T_c7524_row0_col2\" class=\"data row0 col2\" >4.58</td>\n",
       "      <td id=\"T_c7524_row0_col3\" class=\"data row0 col3\" >16.00</td>\n",
       "      <td id=\"T_c7524_row0_col4\" class=\"data row0 col4\" >19.75</td>\n",
       "      <td id=\"T_c7524_row0_col5\" class=\"data row0 col5\" >22.50</td>\n",
       "      <td id=\"T_c7524_row0_col6\" class=\"data row0 col6\" >25.50</td>\n",
       "      <td id=\"T_c7524_row0_col7\" class=\"data row0 col7\" >32.00</td>\n",
       "    </tr>\n",
       "    <tr>\n",
       "      <th id=\"T_c7524_level0_row1\" class=\"row_heading level0 row1\" >2</th>\n",
       "      <td id=\"T_c7524_row1_col0\" class=\"data row1 col0\" >16.00</td>\n",
       "      <td id=\"T_c7524_row1_col1\" class=\"data row1 col1\" >27.25</td>\n",
       "      <td id=\"T_c7524_row1_col2\" class=\"data row1 col2\" >2.93</td>\n",
       "      <td id=\"T_c7524_row1_col3\" class=\"data row1 col3\" >24.00</td>\n",
       "      <td id=\"T_c7524_row1_col4\" class=\"data row1 col4\" >25.00</td>\n",
       "      <td id=\"T_c7524_row1_col5\" class=\"data row1 col5\" >26.50</td>\n",
       "      <td id=\"T_c7524_row1_col6\" class=\"data row1 col6\" >28.75</td>\n",
       "      <td id=\"T_c7524_row1_col7\" class=\"data row1 col7\" >33.00</td>\n",
       "    </tr>\n",
       "    <tr>\n",
       "      <th id=\"T_c7524_level0_row2\" class=\"row_heading level0 row2\" >3</th>\n",
       "      <td id=\"T_c7524_row2_col0\" class=\"data row2 col0\" >16.00</td>\n",
       "      <td id=\"T_c7524_row2_col1\" class=\"data row2 col1\" >34.62</td>\n",
       "      <td id=\"T_c7524_row2_col2\" class=\"data row2 col2\" >7.56</td>\n",
       "      <td id=\"T_c7524_row2_col3\" class=\"data row2 col3\" >24.00</td>\n",
       "      <td id=\"T_c7524_row2_col4\" class=\"data row2 col4\" >28.50</td>\n",
       "      <td id=\"T_c7524_row2_col5\" class=\"data row2 col5\" >34.00</td>\n",
       "      <td id=\"T_c7524_row2_col6\" class=\"data row2 col6\" >40.50</td>\n",
       "      <td id=\"T_c7524_row2_col7\" class=\"data row2 col7\" >47.00</td>\n",
       "    </tr>\n",
       "  </tbody>\n",
       "</table>\n"
      ],
      "text/plain": [
       "<pandas.io.formats.style.Styler at 0x17f2e16aea0>"
      ]
     },
     "metadata": {},
     "output_type": "display_data"
    }
   ],
   "source": [
    "display(df.groupby(['group']).describe().style.format('{:.2f}'))"
   ]
  },
  {
   "cell_type": "code",
   "execution_count": 60,
   "id": "3a63c163feb7328a",
   "metadata": {
    "ExecuteTime": {
     "end_time": "2025-05-05T12:32:33.204193Z",
     "start_time": "2025-05-05T12:32:33.086695Z"
    }
   },
   "outputs": [
    {
     "data": {
      "image/png": "[encoded data removed]",
      "text/plain": [
       "<Figure size 800x800 with 1 Axes>"
      ]
     },
     "metadata": {},
     "output_type": "display_data"
    }
   ],
   "source": [
    "plt.figure(figsize=(8, 8))\n",
    "sns.boxplot(x='gender', y='flexibility', data=df, hue='group');\n",
    "plt.title('Flexibility by gender and group')\n",
    "plt.xlabel('Gender')\n",
    "plt.ylabel('Flexibility')\n",
    "plt.show()"
   ]
  },
  {
   "cell_type": "markdown",
   "id": "c19e62c3-6678-407e-b17e-952fcb49b0e7",
   "metadata": {},
   "source": [
    "Iz tega grafa lahko vidimo, da so ženske, ki so trenirale tri tedne precej bolj gibljive od ženski, ki so trenirale 1 ali 2 tedna. Tudi pri moških lahko vidimo pozitiven trend v gibljivosti glede na dolžino izvajanja vadbe.\n",
    "\n",
    "Sedaj izvedemo dvosmerno ANOVO."
   ]
  },
  {
   "cell_type": "code",
   "execution_count": 74,
   "id": "716d969fd1491ccb",
   "metadata": {
    "ExecuteTime": {
     "end_time": "2025-05-05T12:33:49.804861Z",
     "start_time": "2025-05-05T12:33:49.756935Z"
    }
   },
   "outputs": [
    {
     "data": {
      "text/html": [
       "<div>\n",
       "<style scoped>\n",
       "    .dataframe tbody tr th:only-of-type {\n",
       "        vertical-align: middle;\n",
       "    }\n",
       "\n",
       "    .dataframe tbody tr th {\n",
       "        vertical-align: top;\n",
       "    }\n",
       "\n",
       "    .dataframe thead th {\n",
       "        text-align: right;\n",
       "    }\n",
       "</style>\n",
       "<table border=\"1\" class=\"dataframe\">\n",
       "  <thead>\n",
       "    <tr style=\"text-align: right;\">\n",
       "      <th></th>\n",
       "      <th>sum_sq</th>\n",
       "      <th>df</th>\n",
       "      <th>F</th>\n",
       "      <th>PR(&gt;F)</th>\n",
       "    </tr>\n",
       "  </thead>\n",
       "  <tbody>\n",
       "    <tr>\n",
       "      <th>C(gender)</th>\n",
       "      <td>330.75</td>\n",
       "      <td>1.0</td>\n",
       "      <td>14.987642</td>\n",
       "      <td>3.548813e-04</td>\n",
       "    </tr>\n",
       "    <tr>\n",
       "      <th>C(group)</th>\n",
       "      <td>1065.50</td>\n",
       "      <td>2.0</td>\n",
       "      <td>24.141092</td>\n",
       "      <td>8.382353e-08</td>\n",
       "    </tr>\n",
       "    <tr>\n",
       "      <th>Residual</th>\n",
       "      <td>971.00</td>\n",
       "      <td>44.0</td>\n",
       "      <td>NaN</td>\n",
       "      <td>NaN</td>\n",
       "    </tr>\n",
       "  </tbody>\n",
       "</table>\n",
       "</div>"
      ],
      "text/plain": [
       "            sum_sq    df          F        PR(>F)\n",
       "C(gender)   330.75   1.0  14.987642  3.548813e-04\n",
       "C(group)   1065.50   2.0  24.141092  8.382353e-08\n",
       "Residual    971.00  44.0        NaN           NaN"
      ]
     },
     "metadata": {},
     "output_type": "display_data"
    }
   ],
   "source": [
    "df['gender'] = df['gender'].astype('category')\n",
    "df['group'] = df['group'].astype('category')\n",
    "\n",
    "model = smf.ols('flexibility ~ C(gender) + C(group)', data=df).fit()\n",
    "\n",
    "anova_table = sm.stats.anova_lm(model, typ=2)\n",
    "display(anova_table)"
   ]
  },
  {
   "cell_type": "markdown",
   "id": "cbd98e09-ae22-4fb3-88b6-057767dda217",
   "metadata": {},
   "source": [
    "**Interpretacija:** Iz tabele rezultatov dvostranske ANOVE lahko razberemo, da obstajajo statistično značilne razlike v gibljivosti med spoloma in med skupinami. Izvedemo post-hoc Tukey HSD analizo, da ugotovimo med katerimi skupinami obstajajo statistično značilne razlike."
   ]
  },
  {
   "cell_type": "code",
   "execution_count": 73,
   "id": "89cc9acd-069c-4bc9-993e-06e40be39c7c",
   "metadata": {},
   "outputs": [
    {
     "data": {
      "text/html": [
       "<table class=\"simpletable\">\n",
       "<caption>Multiple Comparison of Means - Tukey HSD, FWER=0.05</caption>\n",
       "<tr>\n",
       "  <th>group1</th> <th>group2</th> <th>meandiff</th>  <th>p-adj</th>  <th>lower</th>   <th>upper</th>  <th>reject</th>\n",
       "</tr>\n",
       "<tr>\n",
       "     <td>1</td>      <td>2</td>      <td>4.0</td>   <td>0.1005</td> <td>-0.6087</td> <td>8.6087</td>   <td>False</td>\n",
       "</tr>\n",
       "<tr>\n",
       "     <td>1</td>      <td>3</td>    <td>11.375</td>    <td>0.0</td>  <td>6.7663</td>  <td>15.9837</td>  <td>True</td> \n",
       "</tr>\n",
       "<tr>\n",
       "     <td>2</td>      <td>3</td>     <td>7.375</td>   <td>0.001</td> <td>2.7663</td>  <td>11.9837</td>  <td>True</td> \n",
       "</tr>\n",
       "</table>"
      ],
      "text/latex": [
       "\\begin{center}\n",
       "\\begin{tabular}{ccccccc}\n",
       "\\toprule\n",
       "\\textbf{group1} & \\textbf{group2} & \\textbf{meandiff} & \\textbf{p-adj} & \\textbf{lower} & \\textbf{upper} & \\textbf{reject}  \\\\\n",
       "\\midrule\n",
       "       1        &        2        &        4.0        &     0.1005     &    -0.6087     &     8.6087     &      False       \\\\\n",
       "       1        &        3        &       11.375      &      0.0       &     6.7663     &    15.9837     &       True       \\\\\n",
       "       2        &        3        &       7.375       &     0.001      &     2.7663     &    11.9837     &       True       \\\\\n",
       "\\bottomrule\n",
       "\\end{tabular}\n",
       "%\\caption{Multiple Comparison of Means - Tukey HSD, FWER=0.05}\n",
       "\\end{center}"
      ],
      "text/plain": [
       "<class 'statsmodels.iolib.table.SimpleTable'>"
      ]
     },
     "metadata": {},
     "output_type": "display_data"
    }
   ],
   "source": [
    "df['interaction'] = df['group'].astype(str) + '-' + df['gender']\n",
    "tukey = pairwise_tukeyhsd(endog=df['flexibility'],\n",
    "                          groups=df['group'],\n",
    "                          alpha=0.05)\n",
    "display(tukey.summary())"
   ]
  },
  {
   "cell_type": "markdown",
   "id": "da8cac16-15b9-4614-80cb-51571f74000f",
   "metadata": {},
   "source": [
    "#### 3. Metodologija\n",
    "\n",
    "Primerjali smo vpliv vadbe na gibljivost moških in žensk. Gibljivost je podana s številom. Višje kot je število večja je gibljivost. Nomralnost smo preverjali s Shapiro-Wilk testom. Razlike med skupinami smo preverjali z dvosmerno ANOVO in post-hoc Tukey HSD analizo, da smo ugotovili med katerimi skupinami je statistično značilna razlika. Meja statistične značilnosti je p<0,05. Statistično analizo smo izvajali v Pythonu z uporabo knjižnic scipy in statsmodels.\n",
    "\n",
    "**Rezultati:** Med prvo in drugo skupino ni statistično značilnih razlik, med drugo in tretjo ter prvo in tretjo pa obstajajo statistično značilne razlike. \n",
    "\n",
    "**Zaključek analize:** Študentke so bolj gibljive od študentov, prav tako pa so statistično značilno bolj gibljivi tisti študenti, ki izvajajo trening gibljivosti vsaj dva tedna."
   ]
  },
  {
   "cell_type": "code",
   "execution_count": null,
   "id": "4a3ac9af-3703-4536-b64a-79564ceda57e",
   "metadata": {},
   "outputs": [],
   "source": []
  }
 ],
 "metadata": {
  "kernelspec": {
   "display_name": "Python 3 (ipykernel)",
   "language": "python",
   "name": "python3"
  },
  "language_info": {
   "codemirror_mode": {
    "name": "ipython",
    "version": 3
   },
   "file_extension": ".py",
   "mimetype": "text/x-python",
   "name": "python",
   "nbconvert_exporter": "python",
   "pygments_lexer": "ipython3",
   "version": "3.12.7"
  }
 },
 "nbformat": 4,
 "nbformat_minor": 5
}
