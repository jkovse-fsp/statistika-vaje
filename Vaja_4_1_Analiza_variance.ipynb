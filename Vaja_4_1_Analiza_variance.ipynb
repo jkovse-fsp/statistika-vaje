{
 "cells": [
  {
   "cell_type": "markdown",
   "id": "3edd6b2b-0e7d-49d1-a574-c53b9ac63f85",
   "metadata": {},
   "source": [
    "## Poročilo vaja 4.1\n",
    "#### Analiza varianece: anketa nogometnih trenerjev\n",
    "\n",
    "V anketi nogometnih trenerjev nas zanima odziv trenerjev glede na njihove igralske izkušnje pred trenersko kariero.\n",
    "1. Organiziramo trenerje glede na njihove igralske izkušnje na reprezentačnem nivoju, državnem nivoju in ostale. (Q12)\n",
    "2. Glede na gornje skupine nas zanimajo (morebitne) razlike v odzivih na:\n",
    "   - Pomembne dejavnike za trenerski poklic (Q22)\n",
    "   - dejavnike za razvoj talentov (Q31 in Q 37)\n",
    "3. Izvedite ustrezno pisno statistiko in jo opremite tudi z grafi.\n",
    "4. Izvedite ustrezno analizo in komentirajte rezultate."
   ]
  },
  {
   "cell_type": "code",
   "execution_count": 138,
   "id": "initial_id",
   "metadata": {
    "ExecuteTime": {
     "end_time": "2025-05-05T08:19:38.339825Z",
     "start_time": "2025-05-05T08:19:38.320847Z"
    }
   },
   "outputs": [],
   "source": [
    "import numpy as np\n",
    "import pandas as pd\n",
    "import matplotlib.pyplot as plt\n",
    "import os\n",
    "import seaborn as sns\n",
    "from scipy.stats import kruskal\n",
    "\n",
    "pd.options.display.max_columns = None"
   ]
  },
  {
   "cell_type": "code",
   "execution_count": 139,
   "id": "b179f77f0319c342",
   "metadata": {
    "ExecuteTime": {
     "end_time": "2025-05-05T08:19:41.741014Z",
     "start_time": "2025-05-05T08:19:40.563356Z"
    }
   },
   "outputs": [],
   "source": [
    "path = os.getcwd()\n",
    "df = pd.read_excel(os.path.join(path, \"data\\\\anketa114621-2024-03-04.xlsx\"))"
   ]
  },
  {
   "cell_type": "code",
   "execution_count": 140,
   "id": "9c9a68d51cfeb32a",
   "metadata": {
    "ExecuteTime": {
     "end_time": "2025-05-05T08:19:45.037228Z",
     "start_time": "2025-05-05T08:19:45.027932Z"
    }
   },
   "outputs": [],
   "source": [
    "# Extract questions\n",
    "df_questions22 = df.filter(regex='^Q22[a-z]$').copy()\n",
    "df_questions31 = df.filter(regex='^Q31[a-z]$').copy()\n",
    "df_questions37 = df.filter(regex='^Q37[a-z]$').copy()\n",
    "\n",
    "questions22 = df_questions22.iloc[0].tolist()\n",
    "questions31 = df_questions31.iloc[0].tolist()\n",
    "questions37 = df_questions37.iloc[0].tolist()\n",
    "\n",
    "df.drop([0], inplace=True)"
   ]
  },
  {
   "cell_type": "code",
   "execution_count": 141,
   "id": "446d433710b8eef2",
   "metadata": {
    "ExecuteTime": {
     "end_time": "2025-05-05T08:56:16.851590Z",
     "start_time": "2025-05-05T08:56:16.848324Z"
    }
   },
   "outputs": [],
   "source": [
    "# remap Q12\n",
    "skupine = {\n",
    "    1: 'reprezentančni nivo',\n",
    "    2: 'državni nivo',\n",
    "    3: 'ostalo',\n",
    "    4: 'ostalo'}"
   ]
  },
  {
   "cell_type": "code",
   "execution_count": 142,
   "id": "98c126b23bbbf822",
   "metadata": {
    "ExecuteTime": {
     "end_time": "2025-05-05T08:26:32.465449Z",
     "start_time": "2025-05-05T08:26:32.457231Z"
    }
   },
   "outputs": [],
   "source": [
    "# extract columns that correspond to questions 12, 22, 31, 37 only\n",
    "df_dejavniki_trener = df.filter(regex='^Q12$|^Q22[a-z]$').copy()\n",
    "df_razvoj_talentov = df.filter(regex='^Q12$|^Q31[a-z]$|^Q37[a-z]$').copy()\n",
    "# clean all non-answered rows\n",
    "df_dejavniki_trener = df_dejavniki_trener[~df_dejavniki_trener.isin([-3, -2, -1]).any(axis=1)]\n",
    "df_razvoj_talentov = df_razvoj_talentov[~df_razvoj_talentov.isin([-3, -2, -1]).any(axis=1)]"
   ]
  },
  {
   "cell_type": "code",
   "execution_count": 143,
   "id": "92133e14a882db05",
   "metadata": {
    "ExecuteTime": {
     "end_time": "2025-05-05T08:26:36.898653Z",
     "start_time": "2025-05-05T08:26:36.865521Z"
    }
   },
   "outputs": [],
   "source": [
    "# replace numerals with likert scale strings\n",
    "df_dejavniki_trener['Q12'] = df_dejavniki_trener['Q12'].map(skupine);\n",
    "df_razvoj_talentov['Q12'] = df_razvoj_talentov['Q12'].map(skupine);"
   ]
  },
  {
   "cell_type": "markdown",
   "id": "13c069b9-43a4-46ed-97e9-55cea0063866",
   "metadata": {},
   "source": [
    "**Zanima nas odziv trenerjev glede na njihove igralske izkušnje, zato jih razdelimo na tri skupine. Trenerje, ki so kot igralci igrali na reprezentančnem nivoju, na državnem nivoju in na ostale.**"
   ]
  },
  {
   "cell_type": "code",
   "execution_count": 144,
   "id": "e773dad3-710b-4332-8baf-a1f665c0e06b",
   "metadata": {},
   "outputs": [
    {
     "data": {
      "image/png": "[encoded data removed]",
      "text/plain": [
       "<Figure size 800x500 with 1 Axes>"
      ]
     },
     "metadata": {},
     "output_type": "display_data"
    }
   ],
   "source": [
    "plt.figure(figsize=(8,5))\n",
    "sns.countplot(x='Q12', data=df_dejavniki_trener)\n",
    "plt.title('Igralske izkušnje trenerjev')\n",
    "plt.xlabel('Igralske izkušnje')\n",
    "plt.ylabel('Število trenerjev')\n",
    "plt.tight_layout()\n",
    "plt.show()"
   ]
  },
  {
   "cell_type": "markdown",
   "id": "0a7f9511-95b1-4729-b16f-b8dd0e655e22",
   "metadata": {},
   "source": [
    "**Zanimajo nas morebitne razlike med skupinami v odzivu na pomembne dejavnike za trenerski poklic.** Ker imamo opravka z neodvisnimi kategoričnimi spremenljivkami, uporabimo Kruskal-Wallisov test za primerjavo odzivov na vprašanje Q22. Rezultati so predstavljeni v naslednji tabeli."
   ]
  },
  {
   "cell_type": "code",
   "execution_count": 148,
   "id": "1bbd3a52144efabf",
   "metadata": {
    "ExecuteTime": {
     "end_time": "2025-05-05T08:26:56.392757Z",
     "start_time": "2025-05-05T08:26:56.355877Z"
    },
    "jupyter": {
     "source_hidden": true
    }
   },
   "outputs": [
    {
     "data": {
      "text/html": [
       "<style type=\"text/css\">\n",
       "#T_30daa caption {\n",
       "  font-size: 16px;\n",
       "  font-weight: bold;\n",
       "  border-bottom: 1px solid black;\n",
       "  width: 100%;\n",
       "}\n",
       "#T_30daa td {\n",
       "  text-align: left;\n",
       "}\n",
       "</style>\n",
       "<table id=\"T_30daa\">\n",
       "  <caption>Q22: Kako pomembne so z ozirom na Vašo predstavo o trenerskem poklicu naslednji dejavniki?</caption>\n",
       "  <thead>\n",
       "    <tr>\n",
       "      <th id=\"T_30daa_level0_col0\" class=\"col_heading level0 col0\" ></th>\n",
       "      <th id=\"T_30daa_level0_col1\" class=\"col_heading level0 col1\" >Statistic</th>\n",
       "      <th id=\"T_30daa_level0_col2\" class=\"col_heading level0 col2\" >p-value</th>\n",
       "    </tr>\n",
       "  </thead>\n",
       "  <tbody>\n",
       "    <tr>\n",
       "      <td id=\"T_30daa_row0_col0\" class=\"data row0 col0\" >Q22a: Dobri medsebojni odnosi z igralci/igralkami</td>\n",
       "      <td id=\"T_30daa_row0_col1\" class=\"data row0 col1\" >0.182982</td>\n",
       "      <td id=\"T_30daa_row0_col2\" class=\"data row0 col2\" >0.912569</td>\n",
       "    </tr>\n",
       "    <tr>\n",
       "      <td id=\"T_30daa_row1_col0\" class=\"data row1 col0\" >Q22b: Dobri medsebojni odnosi med trenerji</td>\n",
       "      <td id=\"T_30daa_row1_col1\" class=\"data row1 col1\" >4.577570</td>\n",
       "      <td id=\"T_30daa_row1_col2\" class=\"data row1 col2\" >0.101390</td>\n",
       "    </tr>\n",
       "    <tr>\n",
       "      <td id=\"T_30daa_row2_col0\" class=\"data row2 col0\" >Q22c: Dobri medsebojni odnosi z vodstvom kluba</td>\n",
       "      <td id=\"T_30daa_row2_col1\" class=\"data row2 col1\" >0.035226</td>\n",
       "      <td id=\"T_30daa_row2_col2\" class=\"data row2 col2\" >0.982541</td>\n",
       "    </tr>\n",
       "    <tr>\n",
       "      <td id=\"T_30daa_row3_col0\" class=\"data row3 col0\" >Q22d: Izpolnjevanje vizije kluba</td>\n",
       "      <td id=\"T_30daa_row3_col1\" class=\"data row3 col1\" >2.734644</td>\n",
       "      <td id=\"T_30daa_row3_col2\" class=\"data row3 col2\" >0.254788</td>\n",
       "    </tr>\n",
       "    <tr>\n",
       "      <td id=\"T_30daa_row4_col0\" class=\"data row4 col0\" >Q22e: Finančna stabilnost kluba</td>\n",
       "      <td id=\"T_30daa_row4_col1\" class=\"data row4 col1\" >9.765753</td>\n",
       "      <td id=\"T_30daa_row4_col2\" class=\"data row4 col2\" >0.007575</td>\n",
       "    </tr>\n",
       "    <tr>\n",
       "      <td id=\"T_30daa_row5_col0\" class=\"data row5 col0\" >Q22f: Organiziranost kluba</td>\n",
       "      <td id=\"T_30daa_row5_col1\" class=\"data row5 col1\" >1.820111</td>\n",
       "      <td id=\"T_30daa_row5_col2\" class=\"data row5 col2\" >0.402502</td>\n",
       "    </tr>\n",
       "    <tr>\n",
       "      <td id=\"T_30daa_row6_col0\" class=\"data row6 col0\" >Q22g: Možnost napredovanja</td>\n",
       "      <td id=\"T_30daa_row6_col1\" class=\"data row6 col1\" >7.392822</td>\n",
       "      <td id=\"T_30daa_row6_col2\" class=\"data row6 col2\" >0.024812</td>\n",
       "    </tr>\n",
       "    <tr>\n",
       "      <td id=\"T_30daa_row7_col0\" class=\"data row7 col0\" >Q22h: Strokovna usposobljenost</td>\n",
       "      <td id=\"T_30daa_row7_col1\" class=\"data row7 col1\" >0.098890</td>\n",
       "      <td id=\"T_30daa_row7_col2\" class=\"data row7 col2\" >0.951757</td>\n",
       "    </tr>\n",
       "    <tr>\n",
       "      <td id=\"T_30daa_row8_col0\" class=\"data row8 col0\" >Q22i: Časovna fleksibilnost</td>\n",
       "      <td id=\"T_30daa_row8_col1\" class=\"data row8 col1\" >1.970045</td>\n",
       "      <td id=\"T_30daa_row8_col2\" class=\"data row8 col2\" >0.373431</td>\n",
       "    </tr>\n",
       "    <tr>\n",
       "      <td id=\"T_30daa_row9_col0\" class=\"data row9 col0\" >Q22j: Predhodne izkušnje in dosežki</td>\n",
       "      <td id=\"T_30daa_row9_col1\" class=\"data row9 col1\" >13.676297</td>\n",
       "      <td id=\"T_30daa_row9_col2\" class=\"data row9 col2\" >0.001072</td>\n",
       "    </tr>\n",
       "    <tr>\n",
       "      <td id=\"T_30daa_row10_col0\" class=\"data row10 col0\" >Q22k: Prepoznavnost v družbi</td>\n",
       "      <td id=\"T_30daa_row10_col1\" class=\"data row10 col1\" >3.401286</td>\n",
       "      <td id=\"T_30daa_row10_col2\" class=\"data row10 col2\" >0.182566</td>\n",
       "    </tr>\n",
       "    <tr>\n",
       "      <td id=\"T_30daa_row11_col0\" class=\"data row11 col0\" >Q22l: visok dohodek</td>\n",
       "      <td id=\"T_30daa_row11_col1\" class=\"data row11 col1\" >7.059571</td>\n",
       "      <td id=\"T_30daa_row11_col2\" class=\"data row11 col2\" >0.029311</td>\n",
       "    </tr>\n",
       "    <tr>\n",
       "      <td id=\"T_30daa_row12_col0\" class=\"data row12 col0\" >Q22m: veselje do poklica</td>\n",
       "      <td id=\"T_30daa_row12_col1\" class=\"data row12 col1\" >2.531369</td>\n",
       "      <td id=\"T_30daa_row12_col2\" class=\"data row12 col2\" >0.282046</td>\n",
       "    </tr>\n",
       "    <tr>\n",
       "      <td id=\"T_30daa_row13_col0\" class=\"data row13 col0\" >Q22n: aktivno se sam oz. sem se ukvarjal z nogometom</td>\n",
       "      <td id=\"T_30daa_row13_col1\" class=\"data row13 col1\" >10.515534</td>\n",
       "      <td id=\"T_30daa_row13_col2\" class=\"data row13 col2\" >0.005207</td>\n",
       "    </tr>\n",
       "    <tr>\n",
       "      <td id=\"T_30daa_row14_col0\" class=\"data row14 col0\" >Q22o: igralce naučiti nogometa</td>\n",
       "      <td id=\"T_30daa_row14_col1\" class=\"data row14 col1\" >0.516267</td>\n",
       "      <td id=\"T_30daa_row14_col2\" class=\"data row14 col2\" >0.772492</td>\n",
       "    </tr>\n",
       "    <tr>\n",
       "      <td id=\"T_30daa_row15_col0\" class=\"data row15 col0\" >Q22p: ustvariti dobrega igralca</td>\n",
       "      <td id=\"T_30daa_row15_col1\" class=\"data row15 col1\" >2.197624</td>\n",
       "      <td id=\"T_30daa_row15_col2\" class=\"data row15 col2\" >0.333267</td>\n",
       "    </tr>\n",
       "    <tr>\n",
       "      <td id=\"T_30daa_row16_col0\" class=\"data row16 col0\" >Q22q: Dobro vzdušje v ekipi</td>\n",
       "      <td id=\"T_30daa_row16_col1\" class=\"data row16 col1\" >0.867051</td>\n",
       "      <td id=\"T_30daa_row16_col2\" class=\"data row16 col2\" >0.648220</td>\n",
       "    </tr>\n",
       "    <tr>\n",
       "      <td id=\"T_30daa_row17_col0\" class=\"data row17 col0\" >Q22r: Visok ugled v družbi</td>\n",
       "      <td id=\"T_30daa_row17_col1\" class=\"data row17 col1\" >4.671570</td>\n",
       "      <td id=\"T_30daa_row17_col2\" class=\"data row17 col2\" >0.096735</td>\n",
       "    </tr>\n",
       "    <tr>\n",
       "      <td id=\"T_30daa_row18_col0\" class=\"data row18 col0\" >Q22s: odločanje o samem sebi</td>\n",
       "      <td id=\"T_30daa_row18_col1\" class=\"data row18 col1\" >2.362019</td>\n",
       "      <td id=\"T_30daa_row18_col2\" class=\"data row18 col2\" >0.306969</td>\n",
       "    </tr>\n",
       "    <tr>\n",
       "      <td id=\"T_30daa_row19_col0\" class=\"data row19 col0\" >Q22t: Odnos z navijači</td>\n",
       "      <td id=\"T_30daa_row19_col1\" class=\"data row19 col1\" >1.605274</td>\n",
       "      <td id=\"T_30daa_row19_col2\" class=\"data row19 col2\" >0.448146</td>\n",
       "    </tr>\n",
       "    <tr>\n",
       "      <td id=\"T_30daa_row20_col0\" class=\"data row20 col0\" >Q22u: Odnos z mediji</td>\n",
       "      <td id=\"T_30daa_row20_col1\" class=\"data row20 col1\" >9.075125</td>\n",
       "      <td id=\"T_30daa_row20_col2\" class=\"data row20 col2\" >0.010699</td>\n",
       "    </tr>\n",
       "  </tbody>\n",
       "</table>\n"
      ],
      "text/plain": [
       "<pandas.io.formats.style.Styler at 0x1b5beb664e0>"
      ]
     },
     "metadata": {},
     "output_type": "display_data"
    }
   ],
   "source": [
    "\n",
    "q22_cols = ['Q22a', 'Q22b', 'Q22c', 'Q22d', 'Q22e', 'Q22f', 'Q22g', 'Q22h', \n",
    "            'Q22i', 'Q22j', 'Q22k', 'Q22l', 'Q22m', 'Q22n', 'Q22o', 'Q22p', \n",
    "            'Q22q', 'Q22r', 'Q22s', 'Q22t', 'Q22u']\n",
    "\n",
    "results = []\n",
    "\n",
    "for i, q in enumerate(q22_cols):\n",
    "    groups = [df_dejavniki_trener[df_dejavniki_trener['Q12'] == group][q].dropna() for group in ['reprezentančni nivo', 'državni nivo', 'ostalo']]\n",
    "    if all(len(group) > 0 for group in groups):\n",
    "        stat, p = kruskal(*groups)\n",
    "        results.append({\n",
    "            '': f'{q}: {questions22[i]}',\n",
    "            'Statistic': stat, \n",
    "            'p-value': p\n",
    "        })\n",
    "\n",
    "kruskal_results = pd.DataFrame(results)\n",
    "display(kruskal_results.style.set_caption('Q22: Kako pomembne so z ozirom na Vašo predstavo o trenerskem poklicu naslednji dejavniki?')\\\n",
    "          .set_table_styles([\n",
    "              {'selector': 'caption', 'props': [('font-size', '16px'), \n",
    "                                                ('font-weight', 'bold'), \n",
    "                                                ('border-bottom', '1px solid black'),\n",
    "                                                ('width', '100%')]},\n",
    "              {'selector': 'td', 'props': 'text-align: left;'}\n",
    "          ])\\\n",
    "          .hide())\n"
   ]
  },
  {
   "cell_type": "markdown",
   "id": "4c977d38-f9aa-49db-817d-f83283e41bb0",
   "metadata": {},
   "source": [
    "**Interpretacija:** H0 pravi, da ne obstajajo razlike med odgovori na katera so odgovorili trenerji iz posameznih skupin. Iz izračunanih p vrednosti lahko H0 zavrnemo v primeru odgovorov na naslednja vprašanja ***Q22e, Q22g, Q22j, Q22l, Q22n, Q22u***. \n",
    "\n",
    "**Zanimajo nas tudi razlike med skupinami v odzivu na dejavnike za razvoj talentov.** S Kruskal-Wallisovim testom tokrat preverimo odgovore na vprašanji Q31 in Q37."
   ]
  },
  {
   "cell_type": "code",
   "execution_count": 149,
   "id": "96e124d179b68b2c",
   "metadata": {
    "jupyter": {
     "source_hidden": true
    }
   },
   "outputs": [
    {
     "data": {
      "text/html": [
       "<style type=\"text/css\">\n",
       "#T_3fb99 caption {\n",
       "  font-size: 16px;\n",
       "  font-weight: bold;\n",
       "  border-bottom: 1px solid black;\n",
       "  width: 100%;\n",
       "}\n",
       "#T_3fb99 td {\n",
       "  text-align: left;\n",
       "}\n",
       "</style>\n",
       "<table id=\"T_3fb99\">\n",
       "  <caption>Q31: Ocenite katere značilnosti so najbolj pomembne za uspešno kariero igralca/igralke</caption>\n",
       "  <thead>\n",
       "    <tr>\n",
       "      <th id=\"T_3fb99_level0_col0\" class=\"col_heading level0 col0\" ></th>\n",
       "      <th id=\"T_3fb99_level0_col1\" class=\"col_heading level0 col1\" >Statistic</th>\n",
       "      <th id=\"T_3fb99_level0_col2\" class=\"col_heading level0 col2\" >p-value</th>\n",
       "    </tr>\n",
       "  </thead>\n",
       "  <tbody>\n",
       "    <tr>\n",
       "      <td id=\"T_3fb99_row0_col0\" class=\"data row0 col0\" >Q31a: Ljubezen do športa</td>\n",
       "      <td id=\"T_3fb99_row0_col1\" class=\"data row0 col1\" >1.262422</td>\n",
       "      <td id=\"T_3fb99_row0_col2\" class=\"data row0 col2\" >0.531947</td>\n",
       "    </tr>\n",
       "    <tr>\n",
       "      <td id=\"T_3fb99_row1_col0\" class=\"data row1 col0\" >Q31b: Oče/mati bivši/a igralec/igralka</td>\n",
       "      <td id=\"T_3fb99_row1_col1\" class=\"data row1 col1\" >2.348377</td>\n",
       "      <td id=\"T_3fb99_row1_col2\" class=\"data row1 col2\" >0.309070</td>\n",
       "    </tr>\n",
       "    <tr>\n",
       "      <td id=\"T_3fb99_row2_col0\" class=\"data row2 col0\" >Q31c: Spodbujanje in navdih bližnjih</td>\n",
       "      <td id=\"T_3fb99_row2_col1\" class=\"data row2 col1\" >1.588907</td>\n",
       "      <td id=\"T_3fb99_row2_col2\" class=\"data row2 col2\" >0.451828</td>\n",
       "    </tr>\n",
       "    <tr>\n",
       "      <td id=\"T_3fb99_row3_col0\" class=\"data row3 col0\" >Q31d: Vpliv nogometnega vzornika</td>\n",
       "      <td id=\"T_3fb99_row3_col1\" class=\"data row3 col1\" >4.110296</td>\n",
       "      <td id=\"T_3fb99_row3_col2\" class=\"data row3 col2\" >0.128074</td>\n",
       "    </tr>\n",
       "    <tr>\n",
       "      <td id=\"T_3fb99_row4_col0\" class=\"data row4 col0\" >Q31e: Tekmovalnost</td>\n",
       "      <td id=\"T_3fb99_row4_col1\" class=\"data row4 col1\" >3.441347</td>\n",
       "      <td id=\"T_3fb99_row4_col2\" class=\"data row4 col2\" >0.178946</td>\n",
       "    </tr>\n",
       "    <tr>\n",
       "      <td id=\"T_3fb99_row5_col0\" class=\"data row5 col0\" >Q31f: Delo v zgodnjem starostnem obdobju</td>\n",
       "      <td id=\"T_3fb99_row5_col1\" class=\"data row5 col1\" >1.781923</td>\n",
       "      <td id=\"T_3fb99_row5_col2\" class=\"data row5 col2\" >0.410261</td>\n",
       "    </tr>\n",
       "    <tr>\n",
       "      <td id=\"T_3fb99_row6_col0\" class=\"data row6 col0\" >Q31g: Vzgoja mladih/nogometna akademija</td>\n",
       "      <td id=\"T_3fb99_row6_col1\" class=\"data row6 col1\" >0.365291</td>\n",
       "      <td id=\"T_3fb99_row6_col2\" class=\"data row6 col2\" >0.833063</td>\n",
       "    </tr>\n",
       "    <tr>\n",
       "      <td id=\"T_3fb99_row7_col0\" class=\"data row7 col0\" >Q31h: Pomoč pri gradnji kariere</td>\n",
       "      <td id=\"T_3fb99_row7_col1\" class=\"data row7 col1\" >0.463450</td>\n",
       "      <td id=\"T_3fb99_row7_col2\" class=\"data row7 col2\" >0.793164</td>\n",
       "    </tr>\n",
       "    <tr>\n",
       "      <td id=\"T_3fb99_row8_col0\" class=\"data row8 col0\" >Q31i: Finančna stabilnost</td>\n",
       "      <td id=\"T_3fb99_row8_col1\" class=\"data row8 col1\" >3.321320</td>\n",
       "      <td id=\"T_3fb99_row8_col2\" class=\"data row8 col2\" >0.190014</td>\n",
       "    </tr>\n",
       "    <tr>\n",
       "      <td id=\"T_3fb99_row9_col0\" class=\"data row9 col0\" >Q31j: Samozavest</td>\n",
       "      <td id=\"T_3fb99_row9_col1\" class=\"data row9 col1\" >0.969309</td>\n",
       "      <td id=\"T_3fb99_row9_col2\" class=\"data row9 col2\" >0.615910</td>\n",
       "    </tr>\n",
       "    <tr>\n",
       "      <td id=\"T_3fb99_row10_col0\" class=\"data row10 col0\" >Q31k: Vztrajnost</td>\n",
       "      <td id=\"T_3fb99_row10_col1\" class=\"data row10 col1\" >2.973595</td>\n",
       "      <td id=\"T_3fb99_row10_col2\" class=\"data row10 col2\" >0.226096</td>\n",
       "    </tr>\n",
       "    <tr>\n",
       "      <td id=\"T_3fb99_row11_col0\" class=\"data row11 col0\" >Q31l: Temperament</td>\n",
       "      <td id=\"T_3fb99_row11_col1\" class=\"data row11 col1\" >1.874237</td>\n",
       "      <td id=\"T_3fb99_row11_col2\" class=\"data row11 col2\" >0.391755</td>\n",
       "    </tr>\n",
       "    <tr>\n",
       "      <td id=\"T_3fb99_row12_col0\" class=\"data row12 col0\" >Q31m: Genetika</td>\n",
       "      <td id=\"T_3fb99_row12_col1\" class=\"data row12 col1\" >1.022343</td>\n",
       "      <td id=\"T_3fb99_row12_col2\" class=\"data row12 col2\" >0.599793</td>\n",
       "    </tr>\n",
       "  </tbody>\n",
       "</table>\n"
      ],
      "text/plain": [
       "<pandas.io.formats.style.Styler at 0x1b5be58c110>"
      ]
     },
     "metadata": {},
     "output_type": "display_data"
    }
   ],
   "source": [
    "q31_cols = ['Q31a', 'Q31b', 'Q31c', 'Q31d', 'Q31e', 'Q31f', 'Q31g', \n",
    "            'Q31h', 'Q31i', 'Q31j', 'Q31k', 'Q31l', 'Q31m']\n",
    "results = []\n",
    "\n",
    "for i, q in enumerate(q31_cols):\n",
    "    groups = [df_razvoj_talentov[df_razvoj_talentov['Q12'] == group][q].dropna() for group in ['reprezentančni nivo', 'državni nivo', 'ostalo']]\n",
    "    if all(len(group) > 0 for group in groups):\n",
    "        stat, p = kruskal(*groups)\n",
    "        \n",
    "        results.append({\n",
    "            '': f'{q}: {questions31[i]}',\n",
    "            'Statistic': stat, \n",
    "            'p-value': p\n",
    "        })\n",
    "\n",
    "kruskal_results = pd.DataFrame(results)\n",
    "display(kruskal_results.style.set_caption('Q31: Ocenite katere značilnosti so najbolj pomembne za uspešno kariero igralca/igralke')\\\n",
    "          .set_table_styles([\n",
    "              {'selector': 'caption', 'props': [('font-size', '16px'), \n",
    "                                                ('font-weight', 'bold'), \n",
    "                                                ('border-bottom', '1px solid black'),\n",
    "                                                ('width', '100%')]},\n",
    "              {'selector': 'td', 'props': 'text-align: left;'}\n",
    "          ])\\\n",
    "          .hide())"
   ]
  },
  {
   "cell_type": "code",
   "execution_count": 150,
   "id": "113fc601-c991-4cb5-ad34-9efca6a10f01",
   "metadata": {
    "jupyter": {
     "source_hidden": true
    }
   },
   "outputs": [
    {
     "data": {
      "text/html": [
       "<style type=\"text/css\">\n",
       "#T_f2ef9 caption {\n",
       "  font-size: 16px;\n",
       "  font-weight: bold;\n",
       "  border-bottom: 1px solid black;\n",
       "  width: 100%;\n",
       "}\n",
       "#T_f2ef9 td {\n",
       "  text-align: left;\n",
       "}\n",
       "</style>\n",
       "<table id=\"T_f2ef9\">\n",
       "  <caption>Q37: Ocenite dejavnike, ki so pomembni za razvoj talenta</caption>\n",
       "  <thead>\n",
       "    <tr>\n",
       "      <th id=\"T_f2ef9_level0_col0\" class=\"col_heading level0 col0\" ></th>\n",
       "      <th id=\"T_f2ef9_level0_col1\" class=\"col_heading level0 col1\" >Statistic</th>\n",
       "      <th id=\"T_f2ef9_level0_col2\" class=\"col_heading level0 col2\" >p-value</th>\n",
       "    </tr>\n",
       "  </thead>\n",
       "  <tbody>\n",
       "    <tr>\n",
       "      <td id=\"T_f2ef9_row0_col0\" class=\"data row0 col0\" >Q37a: Akademska izobrazba trenerjev</td>\n",
       "      <td id=\"T_f2ef9_row0_col1\" class=\"data row0 col1\" >0.614130</td>\n",
       "      <td id=\"T_f2ef9_row0_col2\" class=\"data row0 col2\" >0.735603</td>\n",
       "    </tr>\n",
       "    <tr>\n",
       "      <td id=\"T_f2ef9_row1_col0\" class=\"data row1 col0\" >Q37b: Usposobljenost trenerjev (nivo nogometne diplome)</td>\n",
       "      <td id=\"T_f2ef9_row1_col1\" class=\"data row1 col1\" >2.422433</td>\n",
       "      <td id=\"T_f2ef9_row1_col2\" class=\"data row1 col2\" >0.297835</td>\n",
       "    </tr>\n",
       "    <tr>\n",
       "      <td id=\"T_f2ef9_row2_col0\" class=\"data row2 col0\" >Q37c: Kvaliteta otroških nogometnih šol</td>\n",
       "      <td id=\"T_f2ef9_row2_col1\" class=\"data row2 col1\" >1.048614</td>\n",
       "      <td id=\"T_f2ef9_row2_col2\" class=\"data row2 col2\" >0.591965</td>\n",
       "    </tr>\n",
       "    <tr>\n",
       "      <td id=\"T_f2ef9_row3_col0\" class=\"data row3 col0\" >Q37d: Število mladih nogometašev (U-8)</td>\n",
       "      <td id=\"T_f2ef9_row3_col1\" class=\"data row3 col1\" >0.312380</td>\n",
       "      <td id=\"T_f2ef9_row3_col2\" class=\"data row3 col2\" >0.855397</td>\n",
       "    </tr>\n",
       "    <tr>\n",
       "      <td id=\"T_f2ef9_row4_col0\" class=\"data row4 col0\" >Q37e: Organiziranost NZS</td>\n",
       "      <td id=\"T_f2ef9_row4_col1\" class=\"data row4 col1\" >2.740837</td>\n",
       "      <td id=\"T_f2ef9_row4_col2\" class=\"data row4 col2\" >0.254001</td>\n",
       "    </tr>\n",
       "    <tr>\n",
       "      <td id=\"T_f2ef9_row5_col0\" class=\"data row5 col0\" >Q37f: Klubski managment</td>\n",
       "      <td id=\"T_f2ef9_row5_col1\" class=\"data row5 col1\" >4.647763</td>\n",
       "      <td id=\"T_f2ef9_row5_col2\" class=\"data row5 col2\" >0.097893</td>\n",
       "    </tr>\n",
       "    <tr>\n",
       "      <td id=\"T_f2ef9_row6_col0\" class=\"data row6 col0\" >Q37g: športna znanost, preučevanje specifičnih vidikov, ki neposredno vplivajo na nogometno uspešnost</td>\n",
       "      <td id=\"T_f2ef9_row6_col1\" class=\"data row6 col1\" >1.272578</td>\n",
       "      <td id=\"T_f2ef9_row6_col2\" class=\"data row6 col2\" >0.529253</td>\n",
       "    </tr>\n",
       "    <tr>\n",
       "      <td id=\"T_f2ef9_row7_col0\" class=\"data row7 col0\" >Q37h: Vizija dolgoročnega razvoja nogometaša</td>\n",
       "      <td id=\"T_f2ef9_row7_col1\" class=\"data row7 col1\" >2.631161</td>\n",
       "      <td id=\"T_f2ef9_row7_col2\" class=\"data row7 col2\" >0.268319</td>\n",
       "    </tr>\n",
       "    <tr>\n",
       "      <td id=\"T_f2ef9_row8_col0\" class=\"data row8 col0\" >Q37i: Uspešnost igralca v zgodnjem starostnem obdobju</td>\n",
       "      <td id=\"T_f2ef9_row8_col1\" class=\"data row8 col1\" >1.444253</td>\n",
       "      <td id=\"T_f2ef9_row8_col2\" class=\"data row8 col2\" >0.485718</td>\n",
       "    </tr>\n",
       "    <tr>\n",
       "      <td id=\"T_f2ef9_row9_col0\" class=\"data row9 col0\" >Q37j: Nacionalna identiteta povezana s slovensko kulturo</td>\n",
       "      <td id=\"T_f2ef9_row9_col1\" class=\"data row9 col1\" >4.129530</td>\n",
       "      <td id=\"T_f2ef9_row9_col2\" class=\"data row9 col2\" >0.126848</td>\n",
       "    </tr>\n",
       "    <tr>\n",
       "      <td id=\"T_f2ef9_row10_col0\" class=\"data row10 col0\" >Q37k: Preprečevanje poškodb in pretreniranosti</td>\n",
       "      <td id=\"T_f2ef9_row10_col1\" class=\"data row10 col1\" >6.256476</td>\n",
       "      <td id=\"T_f2ef9_row10_col2\" class=\"data row10 col2\" >0.043795</td>\n",
       "    </tr>\n",
       "    <tr>\n",
       "      <td id=\"T_f2ef9_row11_col0\" class=\"data row11 col0\" >Q37l: Izkušeni in kvalitetni trenerji</td>\n",
       "      <td id=\"T_f2ef9_row11_col1\" class=\"data row11 col1\" >2.054639</td>\n",
       "      <td id=\"T_f2ef9_row11_col2\" class=\"data row11 col2\" >0.357965</td>\n",
       "    </tr>\n",
       "    <tr>\n",
       "      <td id=\"T_f2ef9_row12_col0\" class=\"data row12 col0\" >Q37m: Zmožnost spoprijemanja s pritiski (navijačev, medijev itd)</td>\n",
       "      <td id=\"T_f2ef9_row12_col1\" class=\"data row12 col1\" >11.788329</td>\n",
       "      <td id=\"T_f2ef9_row12_col2\" class=\"data row12 col2\" >0.002755</td>\n",
       "    </tr>\n",
       "    <tr>\n",
       "      <td id=\"T_f2ef9_row13_col0\" class=\"data row13 col0\" >Q37n: Distanciranje od pričakovanj in vpliva staršev</td>\n",
       "      <td id=\"T_f2ef9_row13_col1\" class=\"data row13 col1\" >5.087815</td>\n",
       "      <td id=\"T_f2ef9_row13_col2\" class=\"data row13 col2\" >0.078559</td>\n",
       "    </tr>\n",
       "    <tr>\n",
       "      <td id=\"T_f2ef9_row14_col0\" class=\"data row14 col0\" >Q37o: Distanciranje od pričakovanj in vpliva managerjev</td>\n",
       "      <td id=\"T_f2ef9_row14_col1\" class=\"data row14 col1\" >24.148967</td>\n",
       "      <td id=\"T_f2ef9_row14_col2\" class=\"data row14 col2\" >0.000006</td>\n",
       "    </tr>\n",
       "  </tbody>\n",
       "</table>\n"
      ],
      "text/plain": [
       "<pandas.io.formats.style.Styler at 0x1b5be55b080>"
      ]
     },
     "metadata": {},
     "output_type": "display_data"
    }
   ],
   "source": [
    "q37_cols = ['Q37a', 'Q37b', 'Q37c', 'Q37d', 'Q37e', 'Q37f', 'Q37g', 'Q37h', \n",
    "            'Q37i', 'Q37j', 'Q37k', 'Q37l', 'Q37m', 'Q37n', 'Q37o']\n",
    "results = []\n",
    "\n",
    "for i, q in enumerate(q37_cols):\n",
    "    groups = [df_razvoj_talentov[df_razvoj_talentov['Q12'] == group][q].dropna() for group in ['reprezentančni nivo', 'državni nivo', 'ostalo']]\n",
    "    if all(len(group) > 0 for group in groups):\n",
    "        stat, p = kruskal(*groups)\n",
    "        results.append({\n",
    "            '': f'{q}: {questions37[i]}',\n",
    "            'Statistic': stat, \n",
    "            'p-value': p\n",
    "        })\n",
    "\n",
    "kruskal_results = pd.DataFrame(results)\n",
    "display(kruskal_results.style.set_caption('Q37: Ocenite dejavnike, ki so pomembni za razvoj talenta')\\\n",
    "          .set_table_styles([\n",
    "              {'selector': 'caption', 'props': [('font-size', '16px'), \n",
    "                                                ('font-weight', 'bold'), \n",
    "                                                ('border-bottom', '1px solid black'),\n",
    "                                                ('width', '100%')]},\n",
    "              {'selector': 'td', 'props': 'text-align: left;'}\n",
    "          ])\\\n",
    "          .hide())"
   ]
  },
  {
   "cell_type": "markdown",
   "id": "d11e1385-3c41-48b6-ac9a-b26cc19d7ae5",
   "metadata": {},
   "source": [
    "**Interpretacija:** Opazimo lahko da v odzivih na vprašanje Q31 ni statistično značilnih razlik, medtem, ko se skupine v odzivih na vprašanje Q37 razlikujejo v odzivih na podvprašanja ***Q37k, Q37m in Q37o***. Obstajajo statistično značilne razlike med skupinami na odzive glede preprečevanja poškodb in pretreniranosti, zmožnostjo spoprijemanja s pritiski, ter distanciranjem od pričakovanj vpliva managerjev."
   ]
  },
  {
   "cell_type": "code",
   "execution_count": null,
   "id": "090a4bc7-7c7f-4133-af95-880786459abe",
   "metadata": {},
   "outputs": [],
   "source": []
  }
 ],
 "metadata": {
  "kernelspec": {
   "display_name": "Python 3 (ipykernel)",
   "language": "python",
   "name": "python3"
  },
  "language_info": {
   "codemirror_mode": {
    "name": "ipython",
    "version": 3
   },
   "file_extension": ".py",
   "mimetype": "text/x-python",
   "name": "python",
   "nbconvert_exporter": "python",
   "pygments_lexer": "ipython3",
   "version": "3.12.7"
  }
 },
 "nbformat": 4,
 "nbformat_minor": 5
}
